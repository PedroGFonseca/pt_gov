{
 "cells": [
  {
   "cell_type": "code",
   "execution_count": 1,
   "metadata": {
    "collapsed": true
   },
   "outputs": [],
   "source": [
    "import utils\n",
    "import pandas as pd "
   ]
  },
  {
   "cell_type": "code",
   "execution_count": 2,
   "metadata": {
    "collapsed": false
   },
   "outputs": [],
   "source": [
    "data = utils.prepare_data(\n",
    "    'http://servico.dados.gov.pt/v1/inci/ContratacaoPublicaAnuncios2016')"
   ]
  },
  {
   "cell_type": "code",
   "execution_count": 3,
   "metadata": {
    "collapsed": false
   },
   "outputs": [
    {
     "data": {
      "text/plain": [
       "(1480, 17)"
      ]
     },
     "execution_count": 3,
     "metadata": {},
     "output_type": "execute_result"
    }
   ],
   "source": [
    "data.shape"
   ]
  },
  {
   "cell_type": "code",
   "execution_count": 4,
   "metadata": {
    "collapsed": false
   },
   "outputs": [
    {
     "data": {
      "text/plain": [
       "[u'PartitionKey',\n",
       " u'RowKey',\n",
       " u'Timestamp',\n",
       " u'cpvprincipal',\n",
       " u'datapublicacao',\n",
       " u'descricaoanuncio',\n",
       " u'designacaoentidade',\n",
       " u'entityid',\n",
       " u'modeloanuncio',\n",
       " u'nifentidade',\n",
       " u'numdr',\n",
       " u'numeroanuncio',\n",
       " u'precobase',\n",
       " u'serie',\n",
       " u'tipoacto',\n",
       " u'tiposcontrato',\n",
       " u'url']"
      ]
     },
     "execution_count": 4,
     "metadata": {},
     "output_type": "execute_result"
    }
   ],
   "source": [
    "list(data.columns)"
   ]
  },
  {
   "cell_type": "code",
   "execution_count": 5,
   "metadata": {
    "collapsed": true
   },
   "outputs": [],
   "source": [
    "data['precobase'] = data['precobase'].astype(float)"
   ]
  },
  {
   "cell_type": "code",
   "execution_count": 6,
   "metadata": {
    "collapsed": false
   },
   "outputs": [
    {
     "data": {
      "text/html": [
       "<div>\n",
       "<table border=\"1\" class=\"dataframe\">\n",
       "  <thead>\n",
       "    <tr style=\"text-align: right;\">\n",
       "      <th></th>\n",
       "      <th>tiposcontrato</th>\n",
       "      <th>modeloanuncio</th>\n",
       "      <th>descricaoanuncio</th>\n",
       "      <th>designacaoentidade</th>\n",
       "      <th>tipoacto</th>\n",
       "      <th>precobase</th>\n",
       "    </tr>\n",
       "  </thead>\n",
       "  <tbody>\n",
       "    <tr>\n",
       "      <th>0</th>\n",
       "      <td>Outros</td>\n",
       "      <td>Concurso público</td>\n",
       "      <td>Atribuição do direito de exploração de um quio...</td>\n",
       "      <td>Frente MarFunchal - Gestão e Exploração de Esp...</td>\n",
       "      <td>Anúncio de procedimento</td>\n",
       "      <td>1000</td>\n",
       "    </tr>\n",
       "    <tr>\n",
       "      <th>1</th>\n",
       "      <td></td>\n",
       "      <td>Concurso público</td>\n",
       "      <td>CONSTRUÇÃO DA ZONA DESPORTIVA DE MILHEIRÓS, EM...</td>\n",
       "      <td>Município da Maia</td>\n",
       "      <td>Aviso de prorrogação de prazo</td>\n",
       "      <td>0</td>\n",
       "    </tr>\n",
       "    <tr>\n",
       "      <th>2</th>\n",
       "      <td>Aquisição de serviços</td>\n",
       "      <td>Concurso limitado por prévia qualificação</td>\n",
       "      <td>Aquisição de Serviços de Fiscalização, Coorden...</td>\n",
       "      <td>APDL – Administracao dos Portos do Douro e Lei...</td>\n",
       "      <td>Anúncio de procedimento</td>\n",
       "      <td>81000</td>\n",
       "    </tr>\n",
       "    <tr>\n",
       "      <th>3</th>\n",
       "      <td></td>\n",
       "      <td>Concurso público</td>\n",
       "      <td>NOVO QUARTEL DA GNR DE ÍLHAVO</td>\n",
       "      <td>Município de Ílhavo</td>\n",
       "      <td>Aviso de prorrogação de prazo</td>\n",
       "      <td>0</td>\n",
       "    </tr>\n",
       "    <tr>\n",
       "      <th>4</th>\n",
       "      <td></td>\n",
       "      <td>Concurso público</td>\n",
       "      <td>15CC03CPI006 - Aquisição de manutenção do lice...</td>\n",
       "      <td>Santa Casa da Misericórdia de Lisboa</td>\n",
       "      <td>Aviso de prorrogação de prazo</td>\n",
       "      <td>0</td>\n",
       "    </tr>\n",
       "  </tbody>\n",
       "</table>\n",
       "</div>"
      ],
      "text/plain": [
       "           tiposcontrato                              modeloanuncio  \\\n",
       "0                 Outros                           Concurso público   \n",
       "1                                                  Concurso público   \n",
       "2  Aquisição de serviços  Concurso limitado por prévia qualificação   \n",
       "3                                                  Concurso público   \n",
       "4                                                  Concurso público   \n",
       "\n",
       "                                    descricaoanuncio  \\\n",
       "0  Atribuição do direito de exploração de um quio...   \n",
       "1  CONSTRUÇÃO DA ZONA DESPORTIVA DE MILHEIRÓS, EM...   \n",
       "2  Aquisição de Serviços de Fiscalização, Coorden...   \n",
       "3                      NOVO QUARTEL DA GNR DE ÍLHAVO   \n",
       "4  15CC03CPI006 - Aquisição de manutenção do lice...   \n",
       "\n",
       "                                  designacaoentidade  \\\n",
       "0  Frente MarFunchal - Gestão e Exploração de Esp...   \n",
       "1                                  Município da Maia   \n",
       "2  APDL – Administracao dos Portos do Douro e Lei...   \n",
       "3                                Município de Ílhavo   \n",
       "4               Santa Casa da Misericórdia de Lisboa   \n",
       "\n",
       "                        tipoacto  precobase  \n",
       "0        Anúncio de procedimento       1000  \n",
       "1  Aviso de prorrogação de prazo          0  \n",
       "2        Anúncio de procedimento      81000  \n",
       "3  Aviso de prorrogação de prazo          0  \n",
       "4  Aviso de prorrogação de prazo          0  "
      ]
     },
     "execution_count": 6,
     "metadata": {},
     "output_type": "execute_result"
    }
   ],
   "source": [
    "data[['tiposcontrato', 'modeloanuncio', 'descricaoanuncio', 'designacaoentidade', 'tipoacto', 'precobase']].head()"
   ]
  },
  {
   "cell_type": "code",
   "execution_count": 13,
   "metadata": {
    "collapsed": false,
    "scrolled": false
   },
   "outputs": [
    {
     "data": {
      "text/html": [
       "<div>\n",
       "<table border=\"1\" class=\"dataframe\">\n",
       "  <thead>\n",
       "    <tr style=\"text-align: right;\">\n",
       "      <th></th>\n",
       "      <th>tiposcontrato</th>\n",
       "      <th>descricaoanuncio</th>\n",
       "      <th>designacaoentidade</th>\n",
       "      <th>precobase</th>\n",
       "    </tr>\n",
       "  </thead>\n",
       "  <tbody>\n",
       "    <tr>\n",
       "      <th>459</th>\n",
       "      <td>Empreitadas de obras públicas</td>\n",
       "      <td>Construção, Fornecimento, Montagem e Conceção ...</td>\n",
       "      <td>Resulima - Valorização e Tratamento de Resíduo...</td>\n",
       "      <td>21500000.0</td>\n",
       "    </tr>\n",
       "    <tr>\n",
       "      <th>1442</th>\n",
       "      <td>Empreitadas de obras públicas</td>\n",
       "      <td>Empreitada de \"Eletrificação Linha do Minho en...</td>\n",
       "      <td>Infraestruturas de Portugal, S. A.</td>\n",
       "      <td>21500000.0</td>\n",
       "    </tr>\n",
       "    <tr>\n",
       "      <th>71</th>\n",
       "      <td>Empreitadas de obras públicas</td>\n",
       "      <td>Empreitada de obra pública para a construção d...</td>\n",
       "      <td>EMEL - Empresa Pública Municipal de Mobilidade...</td>\n",
       "      <td>10200000.0</td>\n",
       "    </tr>\n",
       "    <tr>\n",
       "      <th>530</th>\n",
       "      <td>Empreitadas de obras públicas</td>\n",
       "      <td>Empreitada de Conceção, Construção e Fornecime...</td>\n",
       "      <td>Tratolixo - Tratamento de Residuos Sólidos, E....</td>\n",
       "      <td>10200000.0</td>\n",
       "    </tr>\n",
       "    <tr>\n",
       "      <th>1340</th>\n",
       "      <td></td>\n",
       "      <td>Empreitada de Concepção, Construção e Fornecim...</td>\n",
       "      <td>Tratolixo - Tratamento de Residuos Sólidos, E....</td>\n",
       "      <td>10200000.0</td>\n",
       "    </tr>\n",
       "    <tr>\n",
       "      <th>1427</th>\n",
       "      <td></td>\n",
       "      <td>Empreitada de Reabilitação integral do edifíci...</td>\n",
       "      <td>Lisboa Ocidental SRU - Sociedade de Reabilitaç...</td>\n",
       "      <td>9000000.0</td>\n",
       "    </tr>\n",
       "    <tr>\n",
       "      <th>360</th>\n",
       "      <td>Aquisição de serviços</td>\n",
       "      <td>Concurso Público nº 56PF/2015</td>\n",
       "      <td>Serviços Municipalizados de Água e Saneamento ...</td>\n",
       "      <td>7949520.0</td>\n",
       "    </tr>\n",
       "    <tr>\n",
       "      <th>1069</th>\n",
       "      <td>Aquisição de serviços</td>\n",
       "      <td>CPI/0001/DGRSP/DCP/2015</td>\n",
       "      <td>Direção-Geral de Reinserção e Serviços Prisionais</td>\n",
       "      <td>6699899.5</td>\n",
       "    </tr>\n",
       "    <tr>\n",
       "      <th>1128</th>\n",
       "      <td>Empreitadas de obras públicas</td>\n",
       "      <td>EMPREITADA N.º 32/DMPO/DIVPS/DIVPOA/15 - \"REQU...</td>\n",
       "      <td>Município de Lisboa</td>\n",
       "      <td>6000000.0</td>\n",
       "    </tr>\n",
       "    <tr>\n",
       "      <th>1477</th>\n",
       "      <td>Empreitadas de obras públicas</td>\n",
       "      <td>Reformulação dos Centros de Triagem de Lustosa...</td>\n",
       "      <td>AMBISOUSA - Empresa Intermunicipal de Tratamen...</td>\n",
       "      <td>5500000.0</td>\n",
       "    </tr>\n",
       "  </tbody>\n",
       "</table>\n",
       "</div>"
      ],
      "text/plain": [
       "                      tiposcontrato  \\\n",
       "459   Empreitadas de obras públicas   \n",
       "1442  Empreitadas de obras públicas   \n",
       "71    Empreitadas de obras públicas   \n",
       "530   Empreitadas de obras públicas   \n",
       "1340                                  \n",
       "1427                                  \n",
       "360           Aquisição de serviços   \n",
       "1069          Aquisição de serviços   \n",
       "1128  Empreitadas de obras públicas   \n",
       "1477  Empreitadas de obras públicas   \n",
       "\n",
       "                                       descricaoanuncio  \\\n",
       "459   Construção, Fornecimento, Montagem e Conceção ...   \n",
       "1442  Empreitada de \"Eletrificação Linha do Minho en...   \n",
       "71    Empreitada de obra pública para a construção d...   \n",
       "530   Empreitada de Conceção, Construção e Fornecime...   \n",
       "1340  Empreitada de Concepção, Construção e Fornecim...   \n",
       "1427  Empreitada de Reabilitação integral do edifíci...   \n",
       "360                       Concurso Público nº 56PF/2015   \n",
       "1069                            CPI/0001/DGRSP/DCP/2015   \n",
       "1128  EMPREITADA N.º 32/DMPO/DIVPS/DIVPOA/15 - \"REQU...   \n",
       "1477  Reformulação dos Centros de Triagem de Lustosa...   \n",
       "\n",
       "                                     designacaoentidade   precobase  \n",
       "459   Resulima - Valorização e Tratamento de Resíduo...  21500000.0  \n",
       "1442                 Infraestruturas de Portugal, S. A.  21500000.0  \n",
       "71    EMEL - Empresa Pública Municipal de Mobilidade...  10200000.0  \n",
       "530   Tratolixo - Tratamento de Residuos Sólidos, E....  10200000.0  \n",
       "1340  Tratolixo - Tratamento de Residuos Sólidos, E....  10200000.0  \n",
       "1427  Lisboa Ocidental SRU - Sociedade de Reabilitaç...   9000000.0  \n",
       "360   Serviços Municipalizados de Água e Saneamento ...   7949520.0  \n",
       "1069  Direção-Geral de Reinserção e Serviços Prisionais   6699899.5  \n",
       "1128                                Município de Lisboa   6000000.0  \n",
       "1477  AMBISOUSA - Empresa Intermunicipal de Tratamen...   5500000.0  "
      ]
     },
     "execution_count": 13,
     "metadata": {},
     "output_type": "execute_result"
    }
   ],
   "source": [
    "data.loc[data.precobase.nlargest(10).index][['tiposcontrato', 'descricaoanuncio', 'designacaoentidade', 'precobase']]"
   ]
  }
 ],
 "metadata": {
  "kernelspec": {
   "display_name": "Python 2",
   "language": "python",
   "name": "python2"
  },
  "language_info": {
   "codemirror_mode": {
    "name": "ipython",
    "version": 2
   },
   "file_extension": ".py",
   "mimetype": "text/x-python",
   "name": "python",
   "nbconvert_exporter": "python",
   "pygments_lexer": "ipython2",
   "version": "2.7.6"
  }
 },
 "nbformat": 4,
 "nbformat_minor": 0
}

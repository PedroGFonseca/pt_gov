{
 "cells": [
  {
   "cell_type": "markdown",
   "metadata": {},
   "source": [
    "Objective: \n",
    "\n",
    "Get an overview of local spending in Portugal "
   ]
  },
  {
   "cell_type": "code",
   "execution_count": 10,
   "metadata": {
    "collapsed": true
   },
   "outputs": [],
   "source": [
    "import pandas as pd "
   ]
  },
  {
   "cell_type": "code",
   "execution_count": 11,
   "metadata": {
    "collapsed": false
   },
   "outputs": [
    {
     "name": "stdout",
     "output_type": "stream",
     "text": [
      "AIIIDM2010.csv  AIIIDM2014.csv  AIIRM2012.csv  AIVRH2010.csv  AIVRH2014.csv\r\n",
      "AIIIDM2011.csv  AIIIDM2015.csv  AIIRM2013.csv  AIVRH2011.csv  AIVRH2015 (1).csv\r\n",
      "AIIIDM2012.csv  AIIRM2010.csv   AIIRM2014.csv  AIVRH2012.csv  AIVRH2015.csv\r\n",
      "AIIIDM2013.csv  AIIRM2011.csv   AIIRM2015.csv  AIVRH2013.csv\r\n"
     ]
    }
   ],
   "source": [
    "ls data"
   ]
  },
  {
   "cell_type": "code",
   "execution_count": 21,
   "metadata": {
    "collapsed": false
   },
   "outputs": [],
   "source": [
    "receita = {}\n",
    "despesa = {}\n",
    "for year in range(2010,2016):\n",
    "    receita[str(year)] = pd.read_csv('data/AIIRM'+str(year)+'.csv', sep=';')\n",
    "    despesa[str(year)] = pd.read_csv('data/AIIIDM'+str(year)+'.csv', sep=';')"
   ]
  },
  {
   "cell_type": "code",
   "execution_count": 43,
   "metadata": {
    "collapsed": false
   },
   "outputs": [
    {
     "data": {
      "text/plain": [
       "['CODIGOINE',\n",
       " 'CODIGO_PERIODO',\n",
       " 'DERRAMA_IRC',\n",
       " 'DSC_AUTARQUIA',\n",
       " 'FINANCIAMENTO_UNIAO_EUROPEIA',\n",
       " 'IMI',\n",
       " 'IMPOSTOS_MUNICIPAIS',\n",
       " 'IMT',\n",
       " 'IUC',\n",
       " 'OUTRAS_RECEITAS',\n",
       " 'RECEITAS_TOTAIS',\n",
       " 'TAXAS_MULTAS_OUTROS_IMPOSTOS',\n",
       " 'TRANSFERENCIAS_ORCAMENTO_ESTADO',\n",
       " 'VENDA_BENS_SERVICOS',\n",
       " 'ldk']"
      ]
     },
     "execution_count": 43,
     "metadata": {},
     "output_type": "execute_result"
    }
   ],
   "source": [
    "some_data = receita['2012']\n",
    "sorted(some_data.columns)"
   ]
  },
  {
   "cell_type": "markdown",
   "metadata": {},
   "source": [
    "We seem to have data per period, pre-aggregated. Let's keep only the Q4 data? "
   ]
  },
  {
   "cell_type": "code",
   "execution_count": null,
   "metadata": {
    "collapsed": true
   },
   "outputs": [],
   "source": []
  },
  {
   "cell_type": "code",
   "execution_count": 34,
   "metadata": {
    "collapsed": false
   },
   "outputs": [
    {
     "data": {
      "text/html": [
       "<div>\n",
       "<table border=\"1\" class=\"dataframe\">\n",
       "  <thead>\n",
       "    <tr style=\"text-align: right;\">\n",
       "      <th></th>\n",
       "      <th>IMI</th>\n",
       "      <th>TAXAS_MULTAS_OUTROS_IMPOSTOS</th>\n",
       "      <th>FINANCIAMENTO_UNIAO_EUROPEIA</th>\n",
       "      <th>IMPOSTOS_MUNICIPAIS</th>\n",
       "      <th>IUC</th>\n",
       "      <th>TRANSFERENCIAS_ORCAMENTO_ESTADO</th>\n",
       "      <th>ldk</th>\n",
       "      <th>IMT</th>\n",
       "      <th>CODIGO_PERIODO</th>\n",
       "      <th>CODIGOINE</th>\n",
       "      <th>DSC_AUTARQUIA</th>\n",
       "      <th>VENDA_BENS_SERVICOS</th>\n",
       "      <th>DERRAMA_IRC</th>\n",
       "      <th>RECEITAS_TOTAIS</th>\n",
       "      <th>OUTRAS_RECEITAS</th>\n",
       "    </tr>\n",
       "  </thead>\n",
       "  <tbody>\n",
       "    <tr>\n",
       "      <th>0</th>\n",
       "      <td>70321.90</td>\n",
       "      <td>71871.63</td>\n",
       "      <td>80219.97</td>\n",
       "      <td>675191.48</td>\n",
       "      <td>194859.79</td>\n",
       "      <td>2697351</td>\n",
       "      <td>T1_1401</td>\n",
       "      <td>280692.96</td>\n",
       "      <td>T1</td>\n",
       "      <td>1401</td>\n",
       "      <td>ABRANTES</td>\n",
       "      <td>1680673.01</td>\n",
       "      <td>57445.20</td>\n",
       "      <td>5551328.25</td>\n",
       "      <td>417892.79</td>\n",
       "    </tr>\n",
       "    <tr>\n",
       "      <th>308</th>\n",
       "      <td>2250619.54</td>\n",
       "      <td>112261.66</td>\n",
       "      <td>469839.15</td>\n",
       "      <td>3209287.23</td>\n",
       "      <td>391711.73</td>\n",
       "      <td>5394702</td>\n",
       "      <td>T2_1401</td>\n",
       "      <td>392766.14</td>\n",
       "      <td>T2</td>\n",
       "      <td>1401</td>\n",
       "      <td>ABRANTES</td>\n",
       "      <td>2549799.32</td>\n",
       "      <td>61928.16</td>\n",
       "      <td>12290427.08</td>\n",
       "      <td>666799.38</td>\n",
       "    </tr>\n",
       "    <tr>\n",
       "      <th>616</th>\n",
       "      <td>2810954.16</td>\n",
       "      <td>152644.13</td>\n",
       "      <td>843409.96</td>\n",
       "      <td>5111293.43</td>\n",
       "      <td>585537.09</td>\n",
       "      <td>8092053</td>\n",
       "      <td>T3_1401</td>\n",
       "      <td>412205.55</td>\n",
       "      <td>T3</td>\n",
       "      <td>1401</td>\n",
       "      <td>ABRANTES</td>\n",
       "      <td>3088345.17</td>\n",
       "      <td>1149952.50</td>\n",
       "      <td>18118247.03</td>\n",
       "      <td>983145.47</td>\n",
       "    </tr>\n",
       "    <tr>\n",
       "      <th>924</th>\n",
       "      <td>3737337.24</td>\n",
       "      <td>220334.53</td>\n",
       "      <td>1256269.27</td>\n",
       "      <td>6417240.83</td>\n",
       "      <td>760108.76</td>\n",
       "      <td>10789430</td>\n",
       "      <td>T4_1401</td>\n",
       "      <td>531380.37</td>\n",
       "      <td>T4</td>\n",
       "      <td>1401</td>\n",
       "      <td>ABRANTES</td>\n",
       "      <td>4182982.33</td>\n",
       "      <td>1168079.93</td>\n",
       "      <td>23884396.14</td>\n",
       "      <td>1238473.71</td>\n",
       "    </tr>\n",
       "    <tr>\n",
       "      <th>1232</th>\n",
       "      <td>3737337.24</td>\n",
       "      <td>220334.53</td>\n",
       "      <td>1256269.27</td>\n",
       "      <td>6417240.83</td>\n",
       "      <td>760108.76</td>\n",
       "      <td>10789430</td>\n",
       "      <td>A_1401</td>\n",
       "      <td>531380.37</td>\n",
       "      <td>A</td>\n",
       "      <td>1401</td>\n",
       "      <td>ABRANTES</td>\n",
       "      <td>4182982.33</td>\n",
       "      <td>1168079.93</td>\n",
       "      <td>23884396.14</td>\n",
       "      <td>1238473.71</td>\n",
       "    </tr>\n",
       "  </tbody>\n",
       "</table>\n",
       "</div>"
      ],
      "text/plain": [
       "             IMI  TAXAS_MULTAS_OUTROS_IMPOSTOS  FINANCIAMENTO_UNIAO_EUROPEIA  \\\n",
       "0       70321.90                      71871.63                      80219.97   \n",
       "308   2250619.54                     112261.66                     469839.15   \n",
       "616   2810954.16                     152644.13                     843409.96   \n",
       "924   3737337.24                     220334.53                    1256269.27   \n",
       "1232  3737337.24                     220334.53                    1256269.27   \n",
       "\n",
       "      IMPOSTOS_MUNICIPAIS        IUC  TRANSFERENCIAS_ORCAMENTO_ESTADO  \\\n",
       "0               675191.48  194859.79                          2697351   \n",
       "308            3209287.23  391711.73                          5394702   \n",
       "616            5111293.43  585537.09                          8092053   \n",
       "924            6417240.83  760108.76                         10789430   \n",
       "1232           6417240.83  760108.76                         10789430   \n",
       "\n",
       "          ldk        IMT CODIGO_PERIODO  CODIGOINE DSC_AUTARQUIA  \\\n",
       "0     T1_1401  280692.96             T1       1401      ABRANTES   \n",
       "308   T2_1401  392766.14             T2       1401      ABRANTES   \n",
       "616   T3_1401  412205.55             T3       1401      ABRANTES   \n",
       "924   T4_1401  531380.37             T4       1401      ABRANTES   \n",
       "1232   A_1401  531380.37              A       1401      ABRANTES   \n",
       "\n",
       "      VENDA_BENS_SERVICOS  DERRAMA_IRC  RECEITAS_TOTAIS  OUTRAS_RECEITAS  \n",
       "0              1680673.01     57445.20       5551328.25        417892.79  \n",
       "308            2549799.32     61928.16      12290427.08        666799.38  \n",
       "616            3088345.17   1149952.50      18118247.03        983145.47  \n",
       "924            4182982.33   1168079.93      23884396.14       1238473.71  \n",
       "1232           4182982.33   1168079.93      23884396.14       1238473.71  "
      ]
     },
     "execution_count": 34,
     "metadata": {},
     "output_type": "execute_result"
    }
   ],
   "source": [
    "data = receita['2014']\n",
    "\n",
    "data[data.DSC_AUTARQUIA == 'ABRANTES']"
   ]
  },
  {
   "cell_type": "code",
   "execution_count": 40,
   "metadata": {
    "collapsed": false
   },
   "outputs": [],
   "source": [
    "yearly_data = data[data['CODIGO_PERIODO'] == 'A']"
   ]
  },
  {
   "cell_type": "code",
   "execution_count": 38,
   "metadata": {
    "collapsed": false
   },
   "outputs": [
    {
     "data": {
      "text/plain": [
       "T1    308\n",
       "T3    308\n",
       "T2    308\n",
       "T4    308\n",
       "A     308\n",
       "Name: CODIGO_PERIODO, dtype: int64"
      ]
     },
     "execution_count": 38,
     "metadata": {},
     "output_type": "execute_result"
    }
   ],
   "source": [
    "data['CODIGO_PERIODO'].value_counts()"
   ]
  },
  {
   "cell_type": "code",
   "execution_count": 33,
   "metadata": {
    "collapsed": false
   },
   "outputs": [
    {
     "data": {
      "text/html": [
       "<div>\n",
       "<table border=\"1\" class=\"dataframe\">\n",
       "  <thead>\n",
       "    <tr style=\"text-align: right;\">\n",
       "      <th></th>\n",
       "      <th>IMI</th>\n",
       "      <th>TAXAS_MULTAS_OUTROS_IMPOSTOS</th>\n",
       "      <th>FINANCIAMENTO_UNIAO_EUROPEIA</th>\n",
       "      <th>IMPOSTOS_MUNICIPAIS</th>\n",
       "      <th>IUC</th>\n",
       "      <th>TRANSFERENCIAS_ORCAMENTO_ESTADO</th>\n",
       "      <th>ldk</th>\n",
       "      <th>IMT</th>\n",
       "      <th>CODIGO_PERIODO</th>\n",
       "      <th>CODIGOINE</th>\n",
       "      <th>DSC_AUTARQUIA</th>\n",
       "      <th>VENDA_BENS_SERVICOS</th>\n",
       "      <th>DERRAMA_IRC</th>\n",
       "      <th>RECEITAS_TOTAIS</th>\n",
       "      <th>OUTRAS_RECEITAS</th>\n",
       "    </tr>\n",
       "  </thead>\n",
       "  <tbody>\n",
       "    <tr>\n",
       "      <th>0</th>\n",
       "      <td>90037.97</td>\n",
       "      <td>56012.26</td>\n",
       "      <td>287763.93</td>\n",
       "      <td>584345.66</td>\n",
       "      <td>189338.88</td>\n",
       "      <td>2836143</td>\n",
       "      <td>T1_1401</td>\n",
       "      <td>248956.55</td>\n",
       "      <td>T1</td>\n",
       "      <td>1401</td>\n",
       "      <td>ABRANTES</td>\n",
       "      <td>1750102.53</td>\n",
       "      <td>0.00</td>\n",
       "      <td>5748876.59</td>\n",
       "      <td>290521.47</td>\n",
       "    </tr>\n",
       "    <tr>\n",
       "      <th>308</th>\n",
       "      <td>2347232.96</td>\n",
       "      <td>106120.93</td>\n",
       "      <td>352355.49</td>\n",
       "      <td>3235672.83</td>\n",
       "      <td>385603.60</td>\n",
       "      <td>5672286</td>\n",
       "      <td>T2_1401</td>\n",
       "      <td>395015.53</td>\n",
       "      <td>T2</td>\n",
       "      <td>1401</td>\n",
       "      <td>ABRANTES</td>\n",
       "      <td>2507379.74</td>\n",
       "      <td>1699.81</td>\n",
       "      <td>12304785.30</td>\n",
       "      <td>537091.24</td>\n",
       "    </tr>\n",
       "  </tbody>\n",
       "</table>\n",
       "</div>"
      ],
      "text/plain": [
       "            IMI  TAXAS_MULTAS_OUTROS_IMPOSTOS  FINANCIAMENTO_UNIAO_EUROPEIA  \\\n",
       "0      90037.97                      56012.26                     287763.93   \n",
       "308  2347232.96                     106120.93                     352355.49   \n",
       "\n",
       "     IMPOSTOS_MUNICIPAIS        IUC  TRANSFERENCIAS_ORCAMENTO_ESTADO      ldk  \\\n",
       "0              584345.66  189338.88                          2836143  T1_1401   \n",
       "308           3235672.83  385603.60                          5672286  T2_1401   \n",
       "\n",
       "           IMT CODIGO_PERIODO  CODIGOINE DSC_AUTARQUIA  VENDA_BENS_SERVICOS  \\\n",
       "0    248956.55             T1       1401      ABRANTES           1750102.53   \n",
       "308  395015.53             T2       1401      ABRANTES           2507379.74   \n",
       "\n",
       "     DERRAMA_IRC  RECEITAS_TOTAIS  OUTRAS_RECEITAS  \n",
       "0           0.00       5748876.59        290521.47  \n",
       "308      1699.81      12304785.30        537091.24  "
      ]
     },
     "execution_count": 33,
     "metadata": {},
     "output_type": "execute_result"
    }
   ],
   "source": [
    "data = receita['2015']\n",
    "\n",
    "data[data.DSC_AUTARQUIA == 'ABRANTES']"
   ]
  },
  {
   "cell_type": "code",
   "execution_count": 30,
   "metadata": {
    "collapsed": false
   },
   "outputs": [
    {
     "name": "stdout",
     "output_type": "stream",
     "text": [
      "CODIGOINE\n",
      "0    1401\n",
      "1     101\n",
      "Name: CODIGOINE, dtype: int64\n",
      "CODIGO_PERIODO\n",
      "0    T1\n",
      "1    T1\n",
      "Name: CODIGO_PERIODO, dtype: object\n",
      "DERRAMA_IRC\n",
      "0     57445.20\n",
      "1    132803.45\n",
      "Name: DERRAMA_IRC, dtype: float64\n",
      "DSC_AUTARQUIA\n",
      "0    ABRANTES\n",
      "1      �GUEDA\n",
      "Name: DSC_AUTARQUIA, dtype: object\n",
      "FINANCIAMENTO_UNIAO_EUROPEIA\n",
      "0     80219.97\n",
      "1    487498.18\n",
      "Name: FINANCIAMENTO_UNIAO_EUROPEIA, dtype: float64\n",
      "IMI\n",
      "0     70321.90\n",
      "1    180002.21\n",
      "Name: IMI, dtype: float64\n",
      "IMPOSTOS_MUNICIPAIS\n",
      "0    675191.48\n",
      "1    848129.16\n",
      "Name: IMPOSTOS_MUNICIPAIS, dtype: float64\n",
      "IMT\n",
      "0    280692.96\n",
      "1    154548.04\n",
      "Name: IMT, dtype: float64\n",
      "IUC\n",
      "0    194859.79\n",
      "1    283519.10\n",
      "Name: IUC, dtype: float64\n",
      "OUTRAS_RECEITAS\n",
      "0    417892.79\n",
      "1    667548.33\n",
      "Name: OUTRAS_RECEITAS, dtype: float64\n",
      "RECEITAS_TOTAIS\n",
      "0    5551328.25\n",
      "1    4770559.97\n",
      "Name: RECEITAS_TOTAIS, dtype: float64\n",
      "TAXAS_MULTAS_OUTROS_IMPOSTOS\n",
      "0    71871.63\n",
      "1    97256.36\n",
      "Name: TAXAS_MULTAS_OUTROS_IMPOSTOS, dtype: float64\n",
      "TRANSFERENCIAS_ORCAMENTO_ESTADO\n",
      "0    2697351\n",
      "1    1980895\n",
      "Name: TRANSFERENCIAS_ORCAMENTO_ESTADO, dtype: float64\n",
      "VENDA_BENS_SERVICOS\n",
      "0    1680673.01\n",
      "1     786489.30\n",
      "Name: VENDA_BENS_SERVICOS, dtype: float64\n",
      "ldk\n",
      "0    T1_1401\n",
      "1    T1_0101\n",
      "Name: ldk, dtype: object\n"
     ]
    }
   ],
   "source": [
    "for column in sorted(receita['2014'].columns):\n",
    "    print column\n",
    "    print receita['2014'][column].head(2)"
   ]
  },
  {
   "cell_type": "code",
   "execution_count": null,
   "metadata": {
    "collapsed": true
   },
   "outputs": [],
   "source": []
  }
 ],
 "metadata": {
  "kernelspec": {
   "display_name": "Python 2",
   "language": "python",
   "name": "python2"
  },
  "language_info": {
   "codemirror_mode": {
    "name": "ipython",
    "version": 2
   },
   "file_extension": ".py",
   "mimetype": "text/x-python",
   "name": "python",
   "nbconvert_exporter": "python",
   "pygments_lexer": "ipython2",
   "version": "2.7.6"
  }
 },
 "nbformat": 4,
 "nbformat_minor": 0
}
